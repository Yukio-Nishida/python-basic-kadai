{
  "nbformat": 4,
  "nbformat_minor": 0,
  "metadata": {
    "colab": {
      "provenance": []
    },
    "kernelspec": {
      "name": "python3",
      "display_name": "Python 3"
    },
    "language_info": {
      "name": "python"
    }
  },
  "cells": [
    {
      "cell_type": "code",
      "execution_count": 7,
      "metadata": {
        "colab": {
          "base_uri": "https://localhost:8080/"
        },
        "id": "rs4ucn5qIgla",
        "outputId": "fffeefbd-4bf6-4237-de7d-46e45e9f528f"
      },
      "outputs": [
        {
          "output_type": "stream",
          "name": "stdout",
          "text": [
            "三角形の面積は{triangle}㎠です。\n"
          ]
        }
      ],
      "source": [
        "#変数squareに台形の計算式を代入\n",
        "\n",
        "triangle = (10 + 20) / 2\n",
        "\n",
        "#台形の計算結果を表示\n",
        "\n",
        "print(f\"三角形の面積は{triangle}㎠です。\")"
      ]
    }
  ]
}